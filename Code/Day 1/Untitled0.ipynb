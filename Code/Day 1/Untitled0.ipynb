{
  "nbformat": 4,
  "nbformat_minor": 0,
  "metadata": {
    "colab": {
      "provenance": []
    },
    "kernelspec": {
      "name": "python3",
      "display_name": "Python 3"
    },
    "language_info": {
      "name": "python"
    }
  },
  "cells": [
    {
      "cell_type": "code",
      "execution_count": 1,
      "metadata": {
        "colab": {
          "base_uri": "https://localhost:8080/"
        },
        "id": "PjNpj0RoDoho",
        "outputId": "abf1f380-e2be-452f-f99d-789772570159"
      },
      "outputs": [
        {
          "output_type": "stream",
          "name": "stdout",
          "text": [
            "Welcome to the Band Name Generator!\n",
            "What is the city name you grew up in?\n",
            "Haldwani\n",
            "What is your pet's name?\n",
            "Pintu\n",
            "Your band name could be Haldwani Pintu.\n"
          ]
        }
      ],
      "source": [
        "print(\"Welcome to the Band Name Generator!\")\n",
        "\n",
        "print(\"What is the city name you grew up in?\")\n",
        "city = input()\n",
        "\n",
        "print(\"What is your pet's name?\")\n",
        "pet = input()\n",
        "\n",
        "print(f\"Your band name could be {city} {pet}.\")"
      ]
    }
  ]
}